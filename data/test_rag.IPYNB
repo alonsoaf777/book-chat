{
 "cells": [
  {
   "cell_type": "code",
   "execution_count": 116,
   "metadata": {},
   "outputs": [],
   "source": [
    "import pandas as pd\n",
    "from qdrant_client import models, QdrantClient\n",
    "from sentence_transformers import SentenceTransformer\n",
    "from openai import OpenAI"
   ]
  },
  {
   "cell_type": "code",
   "execution_count": 117,
   "metadata": {},
   "outputs": [
    {
     "name": "stderr",
     "output_type": "stream",
     "text": [
      "C:\\Users\\lol_a\\AppData\\Roaming\\Python\\Python39\\site-packages\\IPython\\core\\interactiveshell.py:3505: FutureWarning: The error_bad_lines argument has been deprecated and will be removed in a future version.\n",
      "\n",
      "\n",
      "  exec(code_obj, self.user_global_ns, self.user_ns)\n"
     ]
    },
    {
     "data": {
      "text/html": [
       "<div>\n",
       "<style scoped>\n",
       "    .dataframe tbody tr th:only-of-type {\n",
       "        vertical-align: middle;\n",
       "    }\n",
       "\n",
       "    .dataframe tbody tr th {\n",
       "        vertical-align: top;\n",
       "    }\n",
       "\n",
       "    .dataframe thead th {\n",
       "        text-align: right;\n",
       "    }\n",
       "</style>\n",
       "<table border=\"1\" class=\"dataframe\">\n",
       "  <thead>\n",
       "    <tr style=\"text-align: right;\">\n",
       "      <th></th>\n",
       "      <th>title</th>\n",
       "      <th>author</th>\n",
       "      <th>year</th>\n",
       "      <th>isbn</th>\n",
       "      <th>description</th>\n",
       "      <th>pages</th>\n",
       "      <th>genres</th>\n",
       "      <th>rating</th>\n",
       "    </tr>\n",
       "  </thead>\n",
       "  <tbody>\n",
       "    <tr>\n",
       "      <th>0</th>\n",
       "      <td>Reyes Malditos I, Los. El Rey de Hierro</td>\n",
       "      <td>Maurice Druon</td>\n",
       "      <td>2003</td>\n",
       "      <td>8466612041</td>\n",
       "      <td>The terrible cursion of the Templars. B! All d...</td>\n",
       "      <td>296</td>\n",
       "      <td>Fiction</td>\n",
       "      <td>4.0</td>\n",
       "    </tr>\n",
       "    <tr>\n",
       "      <th>1</th>\n",
       "      <td>El Ocho</td>\n",
       "      <td>Katherine Neville</td>\n",
       "      <td>2004</td>\n",
       "      <td>8466616160</td>\n",
       "      <td>The valuable pieces of the Montglane chess gam...</td>\n",
       "      <td>860</td>\n",
       "      <td>Fiction</td>\n",
       "      <td>4.0</td>\n",
       "    </tr>\n",
       "  </tbody>\n",
       "</table>\n",
       "</div>"
      ],
      "text/plain": [
       "                                     title             author  year  \\\n",
       "0  Reyes Malditos I, Los. El Rey de Hierro      Maurice Druon  2003   \n",
       "1                                  El Ocho  Katherine Neville  2004   \n",
       "\n",
       "         isbn                                        description  pages  \\\n",
       "0  8466612041  The terrible cursion of the Templars. B! All d...    296   \n",
       "1  8466616160  The valuable pieces of the Montglane chess gam...    860   \n",
       "\n",
       "    genres  rating  \n",
       "0  Fiction     4.0  \n",
       "1  Fiction     4.0  "
      ]
     },
     "execution_count": 117,
     "metadata": {},
     "output_type": "execute_result"
    }
   ],
   "source": [
    "\n",
    "df = pd.read_csv('RAG_df2.csv', skipinitialspace=True, engine='python', error_bad_lines=False, encoding= \"UTF-8\")\n",
    "df.head(2)"
   ]
  },
  {
   "cell_type": "code",
   "execution_count": 119,
   "metadata": {},
   "outputs": [
    {
     "data": {
      "text/plain": [
       "700"
      ]
     },
     "execution_count": 119,
     "metadata": {},
     "output_type": "execute_result"
    }
   ],
   "source": [
    "data = df.sample(700).to_dict('records') # Get only 700 records. More records will make it slower to index\n",
    "len(data)"
   ]
  },
  {
   "cell_type": "code",
   "execution_count": 120,
   "metadata": {},
   "outputs": [],
   "source": [
    "def combine_fields(doc):\n",
    "    return (\n",
    "        f\"Título: {doc['title']}. \"\n",
    "        f\"Autor: {doc['author']}. \"\n",
    "        f\"Año: {doc['year']}. \"\n",
    "        f\"Descripción: {doc['description']}. \"\n",
    "        f\"Páginas: {doc['pages']}. \"\n",
    "        f\"Géneros: {doc['genres']}. \"\n",
    "        f\"Rating: {doc['rating']}.\"\n",
    "    )"
   ]
  },
  {
   "cell_type": "code",
   "execution_count": 121,
   "metadata": {},
   "outputs": [
    {
     "name": "stderr",
     "output_type": "stream",
     "text": [
      "c:\\Users\\lol_a\\AppData\\Local\\Programs\\Python\\Python39\\lib\\site-packages\\transformers\\tokenization_utils_base.py:1601: FutureWarning: `clean_up_tokenization_spaces` was not set. It will be set to `True` by default. This behavior will be depracted in transformers v4.45, and will be then set to `False` by default. For more details check this issue: https://github.com/huggingface/transformers/issues/31884\n",
      "  warnings.warn(\n",
      "C:\\Users\\lol_a\\AppData\\Local\\Temp\\ipykernel_25812\\320348425.py:5: DeprecationWarning: `recreate_collection` method is deprecated and will be removed in the future. Use `collection_exists` to check collection existence and `create_collection` instead.\n",
      "  qdrant.recreate_collection(\n"
     ]
    }
   ],
   "source": [
    "encoder = SentenceTransformer('all-MiniLM-L6-v2') # Model to create embeddings\n",
    "# create the vector database client\n",
    "qdrant = QdrantClient(\":memory:\") # Create in-memory Qdrant instance\n",
    "\n",
    "qdrant.recreate_collection(\n",
    "    collection_name = \"books\",\n",
    "    vectors_config = models.VectorParams(\n",
    "        size = encoder.get_sentence_embedding_dimension(),\n",
    "        distance = models.Distance.COSINE\n",
    "    )\n",
    ")\n",
    "# vectorize!\n",
    "qdrant.upload_points(\n",
    "    collection_name=\"books\",\n",
    "    points=[\n",
    "        models.PointStruct(\n",
    "            id=idx,\n",
    "            vector=encoder.encode(combine_fields(doc)).tolist(),\n",
    "            payload=doc,\n",
    "        ) for idx, doc in enumerate(data) # data is the variable holding all the wines\n",
    "    ]\n",
    ")"
   ]
  },
  {
   "cell_type": "code",
   "execution_count": 122,
   "metadata": {},
   "outputs": [],
   "source": [
    "user_prompt = \"Give me a very bad fantasy novel with a very bad rating\""
   ]
  },
  {
   "cell_type": "code",
   "execution_count": 123,
   "metadata": {},
   "outputs": [
    {
     "name": "stdout",
     "output_type": "stream",
     "text": [
      "{'title': 'Dark Lord of Derkholm', 'author': 'Diana Wynne Jones', 'year': 1998, 'isbn': '0688160042', 'description': 'Mr. Chesney operates Pilgrim Parties, a tour group that takes paying participants into an outer realm where the inhabitants play frightening and foreboding roles. The time has come to end the staged madness . . . but can it really be stopped? Master storyteller Diana Wynne Jones serves up twists and turns, introduces Querida, Derk, Blade, and Shona and a remarkable cast of wizards, soldiers, kings, dragons, and griffins, and mixes in a lively dash of humor. With all the ingredients of high fantasy, this unforgettable novel will delight fans old and new.', 'pages': 532, 'genres': 'Juvenile Fiction', 'rating': 3.5} score: 0.425179933608257\n",
      "{'title': 'The Waste Lands (The Dark Tower, Book 3)', 'author': 'Stephen King', 'year': 2003, 'isbn': '0452284716', 'description': 'Roland, the Last Gunslinger, and his companions--Eddie Dean and Susannah--cross the desert of damnation, drawing ever closer to the Dark Tower, a legion of fiendish foes, and revelations that could alter the world.', 'pages': 422, 'genres': 'Fiction', 'rating': 4.0} score: 0.4209333745702195\n",
      "{'title': 'Encyclopaedia of Fantasy', 'author': 'John Clute', 'year': 1997, 'isbn': '1857233689', 'description': 'Covering books, films, television and the ever-increasing panoply of related media, this encylopaedia provides a reference work on the genre of fantasy. It contains a collection of critical viewpoints.', 'pages': 1049, 'genres': 'Fantastic fiction', 'rating': 5.0} score: 0.4030607289028168\n"
     ]
    }
   ],
   "source": [
    "\n",
    "hits = qdrant.search(\n",
    "    collection_name=\"books\",\n",
    "    query_vector=encoder.encode(user_prompt).tolist(),\n",
    "    limit=3\n",
    ")\n",
    "for hit in hits:\n",
    "  print(hit.payload, \"score:\", hit.score)"
   ]
  },
  {
   "cell_type": "code",
   "execution_count": 124,
   "metadata": {},
   "outputs": [],
   "source": [
    "# define a variable to hold the search results\n",
    "search_results = [hit.payload for hit in hits]"
   ]
  },
  {
   "cell_type": "code",
   "execution_count": 125,
   "metadata": {},
   "outputs": [
    {
     "name": "stdout",
     "output_type": "stream",
     "text": [
      "ChatCompletionMessage(content='It looks like I provided some actual book information instead of a bad fantasy novel with a low rating.\\n\\nLet me try again. Here\\'s a fictional example of a bad fantasy novel with a very low rating:\\n\\n**\"The Dragon\\'s Bane\" by Balthazar McSnazz**\\n\\nRating: 1.8/5 stars\\n\\nThis epic fantasy novel follows the journey of a clumsy wizard named Eryndor Thorne as he attempts to defeat the dark lord Xarxos and save the world from certain doom. Along the way, Eryndor must navigate treacherous landscapes, battle hordes of orcs, and deal with his annoyingly chatty sidekick, a talking chicken named Cluck Norris.\\n\\nThe book is filled with cliches, predictable plot twists, and cringe-worthy dialogue. The characters are one-dimensional and lack any real depth or development. The world-building is also lacking, with a convoluted and confusing magic system that will leave readers scratching their heads.\\n\\nDespite its many flaws, \"The Dragon\\'s Bane\" has gained a cult following among fans of bad fantasy novels. If you enjoy books that are so bad they\\'re good, then this might be the novel for you.<|eot_id|>', refusal=None, role='assistant', annotations=None, audio=None, function_call=None, tool_calls=None)\n"
     ]
    }
   ],
   "source": [
    "# Now time to connect to the local large language model\n",
    "from openai import OpenAI\n",
    "client = OpenAI(\n",
    "    base_url=\"http://127.0.0.1:8080/v1\", # \"http://<Your api-server IP>:port\"\n",
    "    api_key = \"sk-local\"\n",
    ")\n",
    "completion = client.chat.completions.create(\n",
    "    model=\"Llama-3.2-3B-Instruct.Q6_K.gguf\",\n",
    "    messages=[\n",
    "        {\"role\": \"system\", \"content\": \"Assistant is a chatbot that helps you find a good book recommendation.\"},\n",
    "        {\"role\": \"user\", \"content\": user_prompt},\n",
    "        {\"role\": \"assistant\", \"content\": str(search_results)}\n",
    "    ]\n",
    ")\n",
    "print(completion.choices[0].message)"
   ]
  },
  {
   "cell_type": "code",
   "execution_count": null,
   "metadata": {},
   "outputs": [],
   "source": []
  }
 ],
 "metadata": {
  "kernelspec": {
   "display_name": "Python 3",
   "language": "python",
   "name": "python3"
  },
  "language_info": {
   "codemirror_mode": {
    "name": "ipython",
    "version": 3
   },
   "file_extension": ".py",
   "mimetype": "text/x-python",
   "name": "python",
   "nbconvert_exporter": "python",
   "pygments_lexer": "ipython3",
   "version": "3.9.2"
  }
 },
 "nbformat": 4,
 "nbformat_minor": 2
}
