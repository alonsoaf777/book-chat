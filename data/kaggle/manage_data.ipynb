{
 "cells": [
  {
   "cell_type": "code",
   "execution_count": 1,
   "metadata": {},
   "outputs": [
    {
     "name": "stderr",
     "output_type": "stream",
     "text": [
      "C:\\Users\\lol_a\\AppData\\Roaming\\Python\\Python39\\site-packages\\IPython\\core\\interactiveshell.py:3505: DtypeWarning: Columns (3) have mixed types.Specify dtype option on import or set low_memory=False.\n",
      "  exec(code_obj, self.user_global_ns, self.user_ns)\n"
     ]
    }
   ],
   "source": [
    "import pandas as pd\n",
    "books = pd.read_csv(\"books.csv\", sep=\";\",on_bad_lines=\"skip\",encoding='latin-1')\n",
    "ratings = pd.read_csv(\"ratings.csv\", sep=\";\",on_bad_lines=\"skip\",encoding='latin-1')"
   ]
  },
  {
   "cell_type": "code",
   "execution_count": 2,
   "metadata": {},
   "outputs": [
    {
     "name": "stdout",
     "output_type": "stream",
     "text": [
      "ISBN ratings not in books: 70372\n",
      "['1561342017', '8833906019', '0781400309', '9782253152866', '0340682086', '2.02.055078.4', '884620090x', '0586058494', '0345249372150', '2748007514']\n"
     ]
    }
   ],
   "source": [
    "'''\n",
    "In the original dataset some ISBN were registered in ratings \n",
    "but not in books.\n",
    "The variable names were changed by convenience.\n",
    "After cleaning ratings I will use MySQL to extract the cols.\n",
    "'''\n",
    "books['isbn'] = books['isbn'].str.strip().str.lower()\n",
    "ratings['isbn'] = ratings['isbn'].str.strip().str.lower()\n",
    "missing = set(ratings['isbn']) - set(books['isbn'])\n",
    "print(f'ISBN ratings not in books: {len(missing)}')\n",
    "print(list(missing)[:10])  "
   ]
  },
  {
   "cell_type": "code",
   "execution_count": 3,
   "metadata": {},
   "outputs": [
    {
     "name": "stdout",
     "output_type": "stream",
     "text": [
      "Original records: 1149780\n",
      "Valid records: 1031139\n"
     ]
    }
   ],
   "source": [
    "# Cleaning ratings\n",
    "valid_ratings = ratings[ratings['isbn'].isin(books['isbn'])]\n",
    "print(f'Original records: {len(ratings)}')\n",
    "print(f'Valid records: {len(valid_ratings)}')\n",
    "valid_ratings.to_csv('ratings_clean.csv', sep=';', index=False)"
   ]
  },
  {
   "cell_type": "code",
   "execution_count": null,
   "metadata": {
    "vscode": {
     "languageId": "sql"
    }
   },
   "outputs": [],
   "source": [
    "'''\n",
    "Loaded the 3 files into a MySQL database using ratings_clean instead of ratings.\n",
    "After loading this query the dataset of interes is obtained.\n",
    "'''\n",
    "SELECT b.title, b.author, b.year, b.isbn, AVG(r.rating) AS rating FROM ratings AS r\n",
    "JOIN users AS u ON r.userid = u.userid\n",
    "JOIN books AS b ON r.isbn = b.isbn\n",
    "WHERE r.rating > 0\n",
    "AND b.year > 0\n",
    "AND b.title IS NOT NULL\n",
    "AND b.author IS NOT NULL\n",
    "AND u.userid IS NOT NULL\n",
    "AND b.isbn IS NOT NULL\n",
    "GROUP BY r.isbn\n",
    "ORDER BY rating DESC\n",
    "INTO OUTFILE 'C:/ProgramData/MySQL/MySQL Server 8.0/Uploads/librarydb_.csv'\n",
    "FIELDS TERMINATED BY ','\n",
    "ENCLOSED BY '\"'\n",
    "LINES TERMINATED BY '\\r\\n';"
   ]
  }
 ],
 "metadata": {
  "kernelspec": {
   "display_name": "Python 3",
   "language": "python",
   "name": "python3"
  },
  "language_info": {
   "codemirror_mode": {
    "name": "ipython",
    "version": 3
   },
   "file_extension": ".py",
   "mimetype": "text/x-python",
   "name": "python",
   "nbconvert_exporter": "python",
   "pygments_lexer": "ipython3",
   "version": "3.9.2"
  }
 },
 "nbformat": 4,
 "nbformat_minor": 2
}
