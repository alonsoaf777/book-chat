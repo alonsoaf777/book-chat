{
 "cells": [
  {
   "cell_type": "code",
   "execution_count": 1,
   "metadata": {},
   "outputs": [],
   "source": [
    "import pandas as pd \n",
    "import json\n",
    "import re\n",
    "import os\n",
    "from deep_translator import GoogleTranslator\n",
    "import time\n",
    "from langdetect import detect"
   ]
  },
  {
   "cell_type": "markdown",
   "metadata": {},
   "source": [
    "## Load"
   ]
  },
  {
   "cell_type": "code",
   "execution_count": 2,
   "metadata": {},
   "outputs": [],
   "source": [
    "'''\n",
    "Obtain the last json file number\n",
    "'''\n",
    "data_dir = os.path.join(os.getcwd(), \"temp\")\n",
    "\n",
    "def get_last_saved_batch(temp_dir):\n",
    "    files = os.listdir(temp_dir)\n",
    "    json_files = [f for f in files if re.match(r\"output_\\d+\\.json\", f)]\n",
    "    if not json_files:\n",
    "        return 0  # No files\n",
    "\n",
    "    # Extract last file number\n",
    "    numbers = [int(re.search(r\"output_(\\d+)\\.json\", f).group(1)) for f in json_files]\n",
    "    return max(numbers)\n",
    "\n",
    "last_file_num = get_last_saved_batch(data_dir)"
   ]
  },
  {
   "cell_type": "code",
   "execution_count": 3,
   "metadata": {},
   "outputs": [
    {
     "name": "stdout",
     "output_type": "stream",
     "text": [
      "Data loaded successfuly\n"
     ]
    }
   ],
   "source": [
    "'''\n",
    "Load the jsons data into a dataframe\n",
    "'''\n",
    "data = []\n",
    "for i in range(last_file_num):\n",
    "    filename = os.path.join(data_dir,f\"output_{i+1}.json\")\n",
    "    with open(filename, \"r\", encoding=\"utf-8\") as f:\n",
    "        try:\n",
    "            content = json.load(f)\n",
    "            data.extend(content)\n",
    "        except json.JSONDecodeError:\n",
    "            print(f\"Cannot open {filename}\")\n",
    "print(\"Data loaded successfuly\")\n",
    "\n",
    "df_json = pd.DataFrame(data)"
   ]
  },
  {
   "cell_type": "code",
   "execution_count": 4,
   "metadata": {},
   "outputs": [
    {
     "data": {
      "text/html": [
       "<div>\n",
       "<style scoped>\n",
       "    .dataframe tbody tr th:only-of-type {\n",
       "        vertical-align: middle;\n",
       "    }\n",
       "\n",
       "    .dataframe tbody tr th {\n",
       "        vertical-align: top;\n",
       "    }\n",
       "\n",
       "    .dataframe thead th {\n",
       "        text-align: right;\n",
       "    }\n",
       "</style>\n",
       "<table border=\"1\" class=\"dataframe\">\n",
       "  <thead>\n",
       "    <tr style=\"text-align: right;\">\n",
       "      <th></th>\n",
       "      <th>title</th>\n",
       "      <th>author</th>\n",
       "      <th>isbn</th>\n",
       "      <th>description</th>\n",
       "      <th>subjects</th>\n",
       "      <th>num_pages</th>\n",
       "      <th>genres</th>\n",
       "      <th>avgRating</th>\n",
       "    </tr>\n",
       "  </thead>\n",
       "  <tbody>\n",
       "    <tr>\n",
       "      <th>0</th>\n",
       "      <td>Yo Me He Llevado Tu Queso</td>\n",
       "      <td>Robert Bristow</td>\n",
       "      <td>8466610774</td>\n",
       "      <td>None</td>\n",
       "      <td>[Self-actualization (Psychology)]</td>\n",
       "      <td>198.0</td>\n",
       "      <td>[Self-actualization (Psychology)]</td>\n",
       "      <td>4.5</td>\n",
       "    </tr>\n",
       "    <tr>\n",
       "      <th>1</th>\n",
       "      <td>Reyes Malditos I, Los. El Rey de Hierro</td>\n",
       "      <td>Maurice Druon</td>\n",
       "      <td>8466612041</td>\n",
       "      <td>La terrible maldicion de los templarios.B!Todo...</td>\n",
       "      <td>[Fiction]</td>\n",
       "      <td>296.0</td>\n",
       "      <td>[Fiction]</td>\n",
       "      <td>4.0</td>\n",
       "    </tr>\n",
       "  </tbody>\n",
       "</table>\n",
       "</div>"
      ],
      "text/plain": [
       "                                     title          author        isbn  \\\n",
       "0                Yo Me He Llevado Tu Queso  Robert Bristow  8466610774   \n",
       "1  Reyes Malditos I, Los. El Rey de Hierro   Maurice Druon  8466612041   \n",
       "\n",
       "                                         description  \\\n",
       "0                                               None   \n",
       "1  La terrible maldicion de los templarios.B!Todo...   \n",
       "\n",
       "                            subjects  num_pages  \\\n",
       "0  [Self-actualization (Psychology)]      198.0   \n",
       "1                          [Fiction]      296.0   \n",
       "\n",
       "                              genres  avgRating  \n",
       "0  [Self-actualization (Psychology)]        4.5  \n",
       "1                          [Fiction]        4.0  "
      ]
     },
     "execution_count": 4,
     "metadata": {},
     "output_type": "execute_result"
    }
   ],
   "source": [
    "df_json.head(2)"
   ]
  },
  {
   "cell_type": "code",
   "execution_count": 5,
   "metadata": {},
   "outputs": [
    {
     "name": "stdout",
     "output_type": "stream",
     "text": [
      "(147000, 8)\n"
     ]
    }
   ],
   "source": [
    "print(df_json.shape)"
   ]
  },
  {
   "cell_type": "code",
   "execution_count": 6,
   "metadata": {},
   "outputs": [],
   "source": [
    "'''\n",
    "Take the interested cols and drop the others\n",
    "'''\n",
    "important_cols = [\"isbn\", \"description\", \"num_pages\", \"genres\", \"avgRating\"]\n",
    "non_cols = [col for col in df_json.columns.tolist() if col not in important_cols]\n",
    "df_json = df_json.drop(non_cols, axis = 1)"
   ]
  },
  {
   "cell_type": "code",
   "execution_count": 7,
   "metadata": {},
   "outputs": [
    {
     "data": {
      "text/html": [
       "<div>\n",
       "<style scoped>\n",
       "    .dataframe tbody tr th:only-of-type {\n",
       "        vertical-align: middle;\n",
       "    }\n",
       "\n",
       "    .dataframe tbody tr th {\n",
       "        vertical-align: top;\n",
       "    }\n",
       "\n",
       "    .dataframe thead th {\n",
       "        text-align: right;\n",
       "    }\n",
       "</style>\n",
       "<table border=\"1\" class=\"dataframe\">\n",
       "  <thead>\n",
       "    <tr style=\"text-align: right;\">\n",
       "      <th></th>\n",
       "      <th>isbn</th>\n",
       "      <th>description</th>\n",
       "      <th>num_pages</th>\n",
       "      <th>genres</th>\n",
       "      <th>avgRating</th>\n",
       "    </tr>\n",
       "  </thead>\n",
       "  <tbody>\n",
       "    <tr>\n",
       "      <th>0</th>\n",
       "      <td>8466610774</td>\n",
       "      <td>None</td>\n",
       "      <td>198.0</td>\n",
       "      <td>[Self-actualization (Psychology)]</td>\n",
       "      <td>4.5</td>\n",
       "    </tr>\n",
       "    <tr>\n",
       "      <th>1</th>\n",
       "      <td>8466612041</td>\n",
       "      <td>La terrible maldicion de los templarios.B!Todo...</td>\n",
       "      <td>296.0</td>\n",
       "      <td>[Fiction]</td>\n",
       "      <td>4.0</td>\n",
       "    </tr>\n",
       "  </tbody>\n",
       "</table>\n",
       "</div>"
      ],
      "text/plain": [
       "         isbn                                        description  num_pages  \\\n",
       "0  8466610774                                               None      198.0   \n",
       "1  8466612041  La terrible maldicion de los templarios.B!Todo...      296.0   \n",
       "\n",
       "                              genres  avgRating  \n",
       "0  [Self-actualization (Psychology)]        4.5  \n",
       "1                          [Fiction]        4.0  "
      ]
     },
     "execution_count": 7,
     "metadata": {},
     "output_type": "execute_result"
    }
   ],
   "source": [
    "df_json.head(2)"
   ]
  },
  {
   "cell_type": "code",
   "execution_count": 8,
   "metadata": {},
   "outputs": [],
   "source": [
    "'''\n",
    "Load the original data\n",
    "'''\n",
    "column_names = [\"title\", \"author\", \"year\", \"rating\", \"isbn\", \"url\"]\n",
    "raw_df = pd.read_csv(\"library_for_scrapping.csv\", sep=\",\", quotechar='\"',on_bad_lines=\"skip\",encoding='latin-1', names = column_names)"
   ]
  },
  {
   "cell_type": "code",
   "execution_count": 9,
   "metadata": {},
   "outputs": [
    {
     "data": {
      "text/html": [
       "<div>\n",
       "<style scoped>\n",
       "    .dataframe tbody tr th:only-of-type {\n",
       "        vertical-align: middle;\n",
       "    }\n",
       "\n",
       "    .dataframe tbody tr th {\n",
       "        vertical-align: top;\n",
       "    }\n",
       "\n",
       "    .dataframe thead th {\n",
       "        text-align: right;\n",
       "    }\n",
       "</style>\n",
       "<table border=\"1\" class=\"dataframe\">\n",
       "  <thead>\n",
       "    <tr style=\"text-align: right;\">\n",
       "      <th></th>\n",
       "      <th>title</th>\n",
       "      <th>author</th>\n",
       "      <th>year</th>\n",
       "      <th>rating</th>\n",
       "      <th>isbn</th>\n",
       "      <th>url</th>\n",
       "    </tr>\n",
       "  </thead>\n",
       "  <tbody>\n",
       "    <tr>\n",
       "      <th>0</th>\n",
       "      <td>Yo Me He Llevado Tu Queso</td>\n",
       "      <td>Robert Bristow</td>\n",
       "      <td>2003</td>\n",
       "      <td>10.0000</td>\n",
       "      <td>8466610774</td>\n",
       "      <td>http://images.amazon.com/images/P/8466610774.0...</td>\n",
       "    </tr>\n",
       "    <tr>\n",
       "      <th>1</th>\n",
       "      <td>Reyes Malditos I, Los. El Rey de Hierro</td>\n",
       "      <td>Maurice Druon</td>\n",
       "      <td>2003</td>\n",
       "      <td>10.0000</td>\n",
       "      <td>8466612041</td>\n",
       "      <td>http://images.amazon.com/images/P/8466612041.0...</td>\n",
       "    </tr>\n",
       "  </tbody>\n",
       "</table>\n",
       "</div>"
      ],
      "text/plain": [
       "                                     title          author  year   rating  \\\n",
       "0                Yo Me He Llevado Tu Queso  Robert Bristow  2003  10.0000   \n",
       "1  Reyes Malditos I, Los. El Rey de Hierro   Maurice Druon  2003  10.0000   \n",
       "\n",
       "         isbn                                                url  \n",
       "0  8466610774  http://images.amazon.com/images/P/8466610774.0...  \n",
       "1  8466612041  http://images.amazon.com/images/P/8466612041.0...  "
      ]
     },
     "execution_count": 9,
     "metadata": {},
     "output_type": "execute_result"
    }
   ],
   "source": [
    "raw_df.head(2)"
   ]
  },
  {
   "cell_type": "code",
   "execution_count": 10,
   "metadata": {},
   "outputs": [
    {
     "data": {
      "text/plain": [
       "(147000, 6)"
      ]
     },
     "execution_count": 10,
     "metadata": {},
     "output_type": "execute_result"
    }
   ],
   "source": [
    "raw_df.shape"
   ]
  },
  {
   "cell_type": "code",
   "execution_count": 11,
   "metadata": {},
   "outputs": [],
   "source": [
    "'''\n",
    "Merge both dataframes\n",
    "'''\n",
    "df_merged = pd.merge(raw_df, df_json, on=\"isbn\", how=\"inner\")"
   ]
  },
  {
   "cell_type": "code",
   "execution_count": 12,
   "metadata": {},
   "outputs": [
    {
     "data": {
      "text/html": [
       "<div>\n",
       "<style scoped>\n",
       "    .dataframe tbody tr th:only-of-type {\n",
       "        vertical-align: middle;\n",
       "    }\n",
       "\n",
       "    .dataframe tbody tr th {\n",
       "        vertical-align: top;\n",
       "    }\n",
       "\n",
       "    .dataframe thead th {\n",
       "        text-align: right;\n",
       "    }\n",
       "</style>\n",
       "<table border=\"1\" class=\"dataframe\">\n",
       "  <thead>\n",
       "    <tr style=\"text-align: right;\">\n",
       "      <th></th>\n",
       "      <th>title</th>\n",
       "      <th>author</th>\n",
       "      <th>year</th>\n",
       "      <th>rating</th>\n",
       "      <th>isbn</th>\n",
       "      <th>url</th>\n",
       "      <th>description</th>\n",
       "      <th>num_pages</th>\n",
       "      <th>genres</th>\n",
       "      <th>avgRating</th>\n",
       "    </tr>\n",
       "  </thead>\n",
       "  <tbody>\n",
       "    <tr>\n",
       "      <th>0</th>\n",
       "      <td>Yo Me He Llevado Tu Queso</td>\n",
       "      <td>Robert Bristow</td>\n",
       "      <td>2003</td>\n",
       "      <td>10.0000</td>\n",
       "      <td>8466610774</td>\n",
       "      <td>http://images.amazon.com/images/P/8466610774.0...</td>\n",
       "      <td>None</td>\n",
       "      <td>198.0</td>\n",
       "      <td>[Self-actualization (Psychology)]</td>\n",
       "      <td>4.5</td>\n",
       "    </tr>\n",
       "    <tr>\n",
       "      <th>1</th>\n",
       "      <td>Reyes Malditos I, Los. El Rey de Hierro</td>\n",
       "      <td>Maurice Druon</td>\n",
       "      <td>2003</td>\n",
       "      <td>10.0000</td>\n",
       "      <td>8466612041</td>\n",
       "      <td>http://images.amazon.com/images/P/8466612041.0...</td>\n",
       "      <td>La terrible maldicion de los templarios.B!Todo...</td>\n",
       "      <td>296.0</td>\n",
       "      <td>[Fiction]</td>\n",
       "      <td>4.0</td>\n",
       "    </tr>\n",
       "  </tbody>\n",
       "</table>\n",
       "</div>"
      ],
      "text/plain": [
       "                                     title          author  year   rating  \\\n",
       "0                Yo Me He Llevado Tu Queso  Robert Bristow  2003  10.0000   \n",
       "1  Reyes Malditos I, Los. El Rey de Hierro   Maurice Druon  2003  10.0000   \n",
       "\n",
       "         isbn                                                url  \\\n",
       "0  8466610774  http://images.amazon.com/images/P/8466610774.0...   \n",
       "1  8466612041  http://images.amazon.com/images/P/8466612041.0...   \n",
       "\n",
       "                                         description  num_pages  \\\n",
       "0                                               None      198.0   \n",
       "1  La terrible maldicion de los templarios.B!Todo...      296.0   \n",
       "\n",
       "                              genres  avgRating  \n",
       "0  [Self-actualization (Psychology)]        4.5  \n",
       "1                          [Fiction]        4.0  "
      ]
     },
     "execution_count": 12,
     "metadata": {},
     "output_type": "execute_result"
    }
   ],
   "source": [
    "df_merged.head(2)"
   ]
  },
  {
   "cell_type": "markdown",
   "metadata": {},
   "source": [
    "## Transform"
   ]
  },
  {
   "cell_type": "code",
   "execution_count": 43,
   "metadata": {},
   "outputs": [],
   "source": [
    "# Checkpoint\n",
    "df_sample = df_merged.copy()"
   ]
  },
  {
   "cell_type": "code",
   "execution_count": 44,
   "metadata": {},
   "outputs": [],
   "source": [
    "'''\n",
    "Clean dataframe\n",
    "'''\n",
    "\n",
    "df_sample['genres'] = df_sample['genres'].apply(lambda x: ', '.join(x))\n",
    "df_sample = df_sample[df_sample[\"num_pages\"] > 0]\n",
    "df_sample = df_sample[df_sample[\"genres\"] != \"\"]\n",
    "df_sample = df_sample[df_sample[\"description\"].notna()]"
   ]
  },
  {
   "cell_type": "code",
   "execution_count": 45,
   "metadata": {},
   "outputs": [
    {
     "data": {
      "text/plain": [
       "(73263, 10)"
      ]
     },
     "execution_count": 45,
     "metadata": {},
     "output_type": "execute_result"
    }
   ],
   "source": [
    "df_sample = df_sample.reset_index(drop=True)\n",
    "df_sample.shape"
   ]
  },
  {
   "cell_type": "code",
   "execution_count": 46,
   "metadata": {},
   "outputs": [
    {
     "data": {
      "text/html": [
       "<div>\n",
       "<style scoped>\n",
       "    .dataframe tbody tr th:only-of-type {\n",
       "        vertical-align: middle;\n",
       "    }\n",
       "\n",
       "    .dataframe tbody tr th {\n",
       "        vertical-align: top;\n",
       "    }\n",
       "\n",
       "    .dataframe thead th {\n",
       "        text-align: right;\n",
       "    }\n",
       "</style>\n",
       "<table border=\"1\" class=\"dataframe\">\n",
       "  <thead>\n",
       "    <tr style=\"text-align: right;\">\n",
       "      <th></th>\n",
       "      <th>title</th>\n",
       "      <th>author</th>\n",
       "      <th>year</th>\n",
       "      <th>rating</th>\n",
       "      <th>isbn</th>\n",
       "      <th>url</th>\n",
       "      <th>description</th>\n",
       "      <th>num_pages</th>\n",
       "      <th>genres</th>\n",
       "      <th>avgRating</th>\n",
       "    </tr>\n",
       "  </thead>\n",
       "  <tbody>\n",
       "    <tr>\n",
       "      <th>0</th>\n",
       "      <td>Reyes Malditos I, Los. El Rey de Hierro</td>\n",
       "      <td>Maurice Druon</td>\n",
       "      <td>2003</td>\n",
       "      <td>10.0000</td>\n",
       "      <td>8466612041</td>\n",
       "      <td>http://images.amazon.com/images/P/8466612041.0...</td>\n",
       "      <td>La terrible maldicion de los templarios.B!Todo...</td>\n",
       "      <td>296.0</td>\n",
       "      <td>Fiction</td>\n",
       "      <td>4.0</td>\n",
       "    </tr>\n",
       "    <tr>\n",
       "      <th>1</th>\n",
       "      <td>El Ocho</td>\n",
       "      <td>Katherine Neville</td>\n",
       "      <td>2004</td>\n",
       "      <td>10.0000</td>\n",
       "      <td>8466616160</td>\n",
       "      <td>http://images.amazon.com/images/P/8466616160.0...</td>\n",
       "      <td>Las valiosas piezas del juego de ajedrez de Mo...</td>\n",
       "      <td>860.0</td>\n",
       "      <td>Fiction</td>\n",
       "      <td>4.0</td>\n",
       "    </tr>\n",
       "  </tbody>\n",
       "</table>\n",
       "</div>"
      ],
      "text/plain": [
       "                                     title             author  year   rating  \\\n",
       "0  Reyes Malditos I, Los. El Rey de Hierro      Maurice Druon  2003  10.0000   \n",
       "1                                  El Ocho  Katherine Neville  2004  10.0000   \n",
       "\n",
       "         isbn                                                url  \\\n",
       "0  8466612041  http://images.amazon.com/images/P/8466612041.0...   \n",
       "1  8466616160  http://images.amazon.com/images/P/8466616160.0...   \n",
       "\n",
       "                                         description  num_pages   genres  \\\n",
       "0  La terrible maldicion de los templarios.B!Todo...      296.0  Fiction   \n",
       "1  Las valiosas piezas del juego de ajedrez de Mo...      860.0  Fiction   \n",
       "\n",
       "   avgRating  \n",
       "0        4.0  \n",
       "1        4.0  "
      ]
     },
     "execution_count": 46,
     "metadata": {},
     "output_type": "execute_result"
    }
   ],
   "source": [
    "df_sample.head(2)"
   ]
  },
  {
   "cell_type": "code",
   "execution_count": 47,
   "metadata": {},
   "outputs": [
    {
     "name": "stdout",
     "output_type": "stream",
     "text": [
      "{'title': <class 'str'>    73263\n",
      "Name: title, dtype: int64, 'author': <class 'str'>    73263\n",
      "Name: author, dtype: int64, 'year': <class 'str'>    73263\n",
      "Name: year, dtype: int64, 'rating': <class 'str'>    73263\n",
      "Name: rating, dtype: int64, 'isbn': <class 'str'>    73263\n",
      "Name: isbn, dtype: int64, 'url': <class 'str'>    73263\n",
      "Name: url, dtype: int64, 'description': <class 'str'>    73263\n",
      "Name: description, dtype: int64, 'num_pages': <class 'float'>    73263\n",
      "Name: num_pages, dtype: int64, 'genres': <class 'str'>    73263\n",
      "Name: genres, dtype: int64, 'avgRating': <class 'float'>    73263\n",
      "Name: avgRating, dtype: int64}\n"
     ]
    }
   ],
   "source": [
    "'''\n",
    "Verify type of information in the current df\n",
    "'''\n",
    "types = {}\n",
    "cols = df_sample.columns.tolist()\n",
    "for i in range(df_sample.shape[1]):\n",
    "    types[cols[i]] = df_sample[cols[i]].map(type).value_counts()\n",
    "print(types)"
   ]
  },
  {
   "cell_type": "code",
   "execution_count": null,
   "metadata": {},
   "outputs": [],
   "source": [
    "'''\n",
    "There are some mistakes in the year formating\n",
    "'''\n",
    "\n",
    "def is_numeric(val):\n",
    "    try:\n",
    "        if int(val) or float(val)\n",
    "            return True\n",
    "    except:\n",
    "        return False\n",
    "\n",
    "#No string values\n",
    "df_sample['is_num_y'] = df_sample['year'].apply(is_numeric)\n",
    "df_sample = df_sample[df_sample['is_num_y']]\n",
    "#No numeric values\n",
    "df_sample['genre_num'] = df_sample['genres'].apply(is_float)\n",
    "df_sample = df_sample[~df_sample['genre_num']]"
   ]
  },
  {
   "cell_type": "code",
   "execution_count": 48,
   "metadata": {},
   "outputs": [],
   "source": [
    "'''\n",
    "Convert rating into float and combine it with avgRating from scrapping\n",
    "'''\n",
    "def is_float(val):\n",
    "    try:\n",
    "        float(val)\n",
    "        return True\n",
    "    except:\n",
    "        return False\n",
    "\n",
    "# Rating as float\n",
    "df_sample['rating_is_float'] = df_sample['rating'].apply(is_float)\n",
    "df_sample = df_sample[df_sample['rating_is_float']]\n",
    "\n",
    "df_sample['rating'] = df_sample['rating'].apply(lambda x: float(x)) / 2\n",
    "df_sample['avgRating'] = df_sample['avgRating'].combine_first(df_sample['rating'])"
   ]
  },
  {
   "cell_type": "code",
   "execution_count": 54,
   "metadata": {},
   "outputs": [],
   "source": [
    "'''\n",
    "For RAG chatbot I will use only english descriptions and genres, therefore we need to translate the descriptions \n",
    "that are not in english\n",
    "'''\n",
    "def detect_language_safe(x):\n",
    "    if isinstance(x, str) and x.strip() != \"\":\n",
    "        try:\n",
    "            return detect(x)\n",
    "        except:\n",
    "            return \"unknown\"\n",
    "    return \"unknown\"\n",
    "\n",
    "def translate_to_english(text, lang):\n",
    "    try:\n",
    "        if lang != \"en\":\n",
    "            return GoogleTranslator(source='auto', target='en').translate(text)\n",
    "        else:\n",
    "            return text\n",
    "    except:\n",
    "        return text\n"
   ]
  },
  {
   "cell_type": "code",
   "execution_count": null,
   "metadata": {},
   "outputs": [],
   "source": [
    "#Descriptions\n",
    "df_sample[\"lang\"] = df_sample[\"description\"].apply(detect_language_safe)\n",
    "df_sample = df_sample[df_sample['lang'] != \"unknown\"]\n"
   ]
  },
  {
   "cell_type": "code",
   "execution_count": 62,
   "metadata": {},
   "outputs": [],
   "source": [
    "#Gneres\n",
    "df_sample[\"lang_genres\"] = df_sample[\"genres\"].apply(detect_language_safe)\n",
    "df_sample = df_sample[df_sample['lang_genres'] != \"unknown\"]"
   ]
  },
  {
   "cell_type": "code",
   "execution_count": 71,
   "metadata": {},
   "outputs": [
    {
     "data": {
      "text/html": [
       "<div>\n",
       "<style scoped>\n",
       "    .dataframe tbody tr th:only-of-type {\n",
       "        vertical-align: middle;\n",
       "    }\n",
       "\n",
       "    .dataframe tbody tr th {\n",
       "        vertical-align: top;\n",
       "    }\n",
       "\n",
       "    .dataframe thead th {\n",
       "        text-align: right;\n",
       "    }\n",
       "</style>\n",
       "<table border=\"1\" class=\"dataframe\">\n",
       "  <thead>\n",
       "    <tr style=\"text-align: right;\">\n",
       "      <th></th>\n",
       "      <th>title</th>\n",
       "      <th>author</th>\n",
       "      <th>year</th>\n",
       "      <th>rating</th>\n",
       "      <th>isbn</th>\n",
       "      <th>url</th>\n",
       "      <th>description</th>\n",
       "      <th>num_pages</th>\n",
       "      <th>genres</th>\n",
       "      <th>avgRating</th>\n",
       "      <th>rating_is_float</th>\n",
       "      <th>lang</th>\n",
       "      <th>lang_genres</th>\n",
       "    </tr>\n",
       "  </thead>\n",
       "  <tbody>\n",
       "    <tr>\n",
       "      <th>0</th>\n",
       "      <td>Reyes Malditos I, Los. El Rey de Hierro</td>\n",
       "      <td>Maurice Druon</td>\n",
       "      <td>2003</td>\n",
       "      <td>5.0</td>\n",
       "      <td>8466612041</td>\n",
       "      <td>http://images.amazon.com/images/P/8466612041.0...</td>\n",
       "      <td>The terrible cursion of the Templars. B! All d...</td>\n",
       "      <td>296.0</td>\n",
       "      <td>Fiction</td>\n",
       "      <td>4.0</td>\n",
       "      <td>True</td>\n",
       "      <td>es</td>\n",
       "      <td>en</td>\n",
       "    </tr>\n",
       "    <tr>\n",
       "      <th>1</th>\n",
       "      <td>El Ocho</td>\n",
       "      <td>Katherine Neville</td>\n",
       "      <td>2004</td>\n",
       "      <td>5.0</td>\n",
       "      <td>8466616160</td>\n",
       "      <td>http://images.amazon.com/images/P/8466616160.0...</td>\n",
       "      <td>The valuable pieces of the Montglane chess gam...</td>\n",
       "      <td>860.0</td>\n",
       "      <td>Fiction</td>\n",
       "      <td>4.0</td>\n",
       "      <td>True</td>\n",
       "      <td>es</td>\n",
       "      <td>en</td>\n",
       "    </tr>\n",
       "  </tbody>\n",
       "</table>\n",
       "</div>"
      ],
      "text/plain": [
       "                                     title             author  year  rating  \\\n",
       "0  Reyes Malditos I, Los. El Rey de Hierro      Maurice Druon  2003     5.0   \n",
       "1                                  El Ocho  Katherine Neville  2004     5.0   \n",
       "\n",
       "         isbn                                                url  \\\n",
       "0  8466612041  http://images.amazon.com/images/P/8466612041.0...   \n",
       "1  8466616160  http://images.amazon.com/images/P/8466616160.0...   \n",
       "\n",
       "                                         description  num_pages   genres  \\\n",
       "0  The terrible cursion of the Templars. B! All d...      296.0  Fiction   \n",
       "1  The valuable pieces of the Montglane chess gam...      860.0  Fiction   \n",
       "\n",
       "   avgRating  rating_is_float lang lang_genres  \n",
       "0        4.0             True   es          en  \n",
       "1        4.0             True   es          en  "
      ]
     },
     "execution_count": 71,
     "metadata": {},
     "output_type": "execute_result"
    }
   ],
   "source": [
    "df_sample.head(2)"
   ]
  },
  {
   "cell_type": "code",
   "execution_count": 115,
   "metadata": {},
   "outputs": [],
   "source": [
    "#checkpoint2 = df_sample.copy()\n",
    "df_sample = checkpoint2.copy()"
   ]
  },
  {
   "cell_type": "code",
   "execution_count": 58,
   "metadata": {},
   "outputs": [
    {
     "name": "stderr",
     "output_type": "stream",
     "text": [
      "100%|██████████| 73257/73257 [1:07:37<00:00, 18.06it/s]  \n"
     ]
    }
   ],
   "source": [
    "'''\n",
    "Translate descriptions and genres != en\n",
    "'''\n",
    "from tqdm import tqdm\n",
    "tqdm.pandas()\n",
    "\n",
    "#Descriptions\n",
    "df_sample[\"description\"] = df_sample.progress_apply(\n",
    "    lambda row: translate_to_english(row[\"description\"], row[\"lang\"]),\n",
    "    axis=1\n",
    ")"
   ]
  },
  {
   "cell_type": "code",
   "execution_count": 72,
   "metadata": {},
   "outputs": [
    {
     "name": "stderr",
     "output_type": "stream",
     "text": [
      "100%|██████████| 73257/73257 [2:03:04<00:00,  9.92it/s]  \n"
     ]
    }
   ],
   "source": [
    "#genres\n",
    "df_sample[\"genres\"] = df_sample.progress_apply(\n",
    "    lambda row: translate_to_english(row[\"genres\"], row[\"lang_genres\"]),\n",
    "    axis=1\n",
    ")"
   ]
  },
  {
   "cell_type": "code",
   "execution_count": 121,
   "metadata": {},
   "outputs": [],
   "source": [
    "'''\n",
    "Last verification and filters\n",
    "'''\n",
    "df_sample = df_sample[df_sample['description'].str.len() > 35]\n",
    "df_sample[\"avgRating\"] = df_sample[\"avgRating\"].astype(float).round(1)\n",
    "df_sample['num_pages'] = df_sample['num_pages'].astype(float).round(0).astype(int)\n"
   ]
  },
  {
   "cell_type": "code",
   "execution_count": 124,
   "metadata": {},
   "outputs": [],
   "source": [
    "RAG_df = df_sample.drop([\"rating\", \"rating_is_float\", \"url\", \"lang\", \"lang_genres\", \"is_num_y\", \"genre_num\"], axis = 1)\n",
    "new_cols = {\"num_pages\" : \"pages\", \"avgRating\" : \"rating\"}\n",
    "RAG_df.rename(columns=new_cols, inplace=True)"
   ]
  },
  {
   "cell_type": "code",
   "execution_count": 126,
   "metadata": {},
   "outputs": [
    {
     "data": {
      "text/html": [
       "<div>\n",
       "<style scoped>\n",
       "    .dataframe tbody tr th:only-of-type {\n",
       "        vertical-align: middle;\n",
       "    }\n",
       "\n",
       "    .dataframe tbody tr th {\n",
       "        vertical-align: top;\n",
       "    }\n",
       "\n",
       "    .dataframe thead th {\n",
       "        text-align: right;\n",
       "    }\n",
       "</style>\n",
       "<table border=\"1\" class=\"dataframe\">\n",
       "  <thead>\n",
       "    <tr style=\"text-align: right;\">\n",
       "      <th></th>\n",
       "      <th>title</th>\n",
       "      <th>author</th>\n",
       "      <th>year</th>\n",
       "      <th>isbn</th>\n",
       "      <th>description</th>\n",
       "      <th>pages</th>\n",
       "      <th>genres</th>\n",
       "      <th>rating</th>\n",
       "    </tr>\n",
       "  </thead>\n",
       "  <tbody>\n",
       "    <tr>\n",
       "      <th>0</th>\n",
       "      <td>Reyes Malditos I, Los. El Rey de Hierro</td>\n",
       "      <td>Maurice Druon</td>\n",
       "      <td>2003</td>\n",
       "      <td>8466612041</td>\n",
       "      <td>The terrible cursion of the Templars. B! All d...</td>\n",
       "      <td>296</td>\n",
       "      <td>Fiction</td>\n",
       "      <td>4.0</td>\n",
       "    </tr>\n",
       "    <tr>\n",
       "      <th>1</th>\n",
       "      <td>El Ocho</td>\n",
       "      <td>Katherine Neville</td>\n",
       "      <td>2004</td>\n",
       "      <td>8466616160</td>\n",
       "      <td>The valuable pieces of the Montglane chess gam...</td>\n",
       "      <td>860</td>\n",
       "      <td>Fiction</td>\n",
       "      <td>4.0</td>\n",
       "    </tr>\n",
       "  </tbody>\n",
       "</table>\n",
       "</div>"
      ],
      "text/plain": [
       "                                     title             author  year  \\\n",
       "0  Reyes Malditos I, Los. El Rey de Hierro      Maurice Druon  2003   \n",
       "1                                  El Ocho  Katherine Neville  2004   \n",
       "\n",
       "         isbn                                        description  pages  \\\n",
       "0  8466612041  The terrible cursion of the Templars. B! All d...    296   \n",
       "1  8466616160  The valuable pieces of the Montglane chess gam...    860   \n",
       "\n",
       "    genres  rating  \n",
       "0  Fiction     4.0  \n",
       "1  Fiction     4.0  "
      ]
     },
     "execution_count": 126,
     "metadata": {},
     "output_type": "execute_result"
    }
   ],
   "source": [
    "RAG_df.head(2)"
   ]
  },
  {
   "cell_type": "code",
   "execution_count": 128,
   "metadata": {},
   "outputs": [],
   "source": [
    "RAG_df.to_csv(\"RAG_df.csv\", index=False, encoding=\"utf-8\")"
   ]
  }
 ],
 "metadata": {
  "kernelspec": {
   "display_name": "Python 3",
   "language": "python",
   "name": "python3"
  },
  "language_info": {
   "codemirror_mode": {
    "name": "ipython",
    "version": 3
   },
   "file_extension": ".py",
   "mimetype": "text/x-python",
   "name": "python",
   "nbconvert_exporter": "python",
   "pygments_lexer": "ipython3",
   "version": "3.9.2"
  }
 },
 "nbformat": 4,
 "nbformat_minor": 2
}
