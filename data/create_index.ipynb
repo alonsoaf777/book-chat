{
 "cells": [
  {
   "cell_type": "code",
   "execution_count": 1,
   "metadata": {},
   "outputs": [],
   "source": [
    "import os\n",
    "import openai\n",
    "from langchain.embeddings import OpenAIEmbeddings\n",
    "from langchain.vectorstores import AzureSearch\n",
    "from dotenv import load_dotenv"
   ]
  },
  {
   "cell_type": "code",
   "execution_count": 2,
   "metadata": {},
   "outputs": [],
   "source": [
    "load_dotenv('.env')\n",
    "\n",
    "##Sources\n",
    "openai_search_source_endpoint = os.getenv(\"OPENAI_SEARCH_SOURCE_ENDPOINT\")\n",
    "openai_search_source_key = os.getenv(\"OPENAI_SEARCH_SOURCE_KEY\")\n",
    "openai_search_source_version = os.getenv(\"OPENAI_SEARCH_SOURCE_VERSION\")\n",
    "#models\n",
    "#search\n",
    "openai_search_model_endpoint = os.getenv(\"OPENAI_SEARCH_API_ENDPOINT\")\n",
    "openai_search_model_key = os.getenv(\"OPENAI_SEARCH_API_KEY\")\n",
    "openai_search_model_name = os.getenv(\"OPENAI_SEARCH_MODEL_NAME\")\n",
    "#completion\n",
    "openai_completion_model_endpoint = os.getenv(\"OPENAI_COMPLETION_API_ENDPOINT\")\n",
    "openai_completion_model_key = os.getenv(\"OPENAI_COMPLETION_API_KEY\")\n",
    "openai_completion_model_name = os.getenv(\"OPENAI_COMPLETION_MODEL_NAME\")\n",
    "openai_completion_model_version = os.getenv(\"OPENAI_COMPLETION_API_VERSION\")\n",
    "#index\n",
    "openai_index_name = os.getenv(\"OPENAI_SEARCH_INDEX_NAME\")\n"
   ]
  },
  {
   "cell_type": "code",
   "execution_count": 4,
   "metadata": {},
   "outputs": [
    {
     "name": "stdout",
     "output_type": "stream",
     "text": [
      "Index created successfully!\n"
     ]
    }
   ],
   "source": [
    "from azure.search.documents.indexes import SearchIndexClient\n",
    "from azure.search.documents.indexes.models import SimpleField, SearchIndex, SearchFieldDataType\n",
    "from azure.core.credentials import AzureKeyCredential\n",
    "#Create an index\n",
    "index_client = SearchIndexClient(endpoint=openai_search_model_endpoint, credential=AzureKeyCredential(openai_search_model_key))\n",
    "\n",
    "index_schema = SearchIndex(\n",
    "    name=openai_index_name, \n",
    "    fields=[ \n",
    "        SimpleField(name=\"id\", type=SearchFieldDataType.String, key=True),  \n",
    "        SimpleField(name=\"content\", type=SearchFieldDataType.String, searchable=True),  # Notes about the wine\n",
    "        SimpleField(name=\"metadata\", type=SearchFieldDataType.String, searchable=True)  # Notes about the wine\n",
    "    ]\n",
    ")\n",
    "\n",
    "try:\n",
    "    index_client.create_index(index_schema)\n",
    "    print(\"Index created successfully!\")\n",
    "except Exception as e:\n",
    "    print(f\"Failed to create the index: {e}\")"
   ]
  },
  {
   "cell_type": "code",
   "execution_count": 12,
   "metadata": {},
   "outputs": [],
   "source": [
    "## openai == 0.28.1\n",
    "embeddings = OpenAIEmbeddings(\n",
    "    deployment = openai_search_model_name,   # nombre exacto de tu deployment en Azure OpenAI\n",
    "    model = openai_search_model_name,         # opcional, depende de cómo creaste tu deployment\n",
    "    openai_api_type = \"azure\",\n",
    "    openai_api_base = openai_search_source_endpoint,\n",
    "    openai_api_key = openai_search_source_key,\n",
    "    openai_api_version = \"2023-05-15\"         # o la versión que uses en Azure OpenAI\n",
    ")\n",
    "## Connect to Azure\n",
    "acs = AzureSearch(azure_search_endpoint = openai_search_model_endpoint ,\n",
    "                  azure_search_key = openai_search_model_key,\n",
    "                  index_name = openai_index_name,\n",
    "                  embedding_function = embeddings.embed_query)"
   ]
  },
  {
   "cell_type": "code",
   "execution_count": 13,
   "metadata": {},
   "outputs": [],
   "source": [
    "from langchain.document_loaders import CSVLoader\n",
    "\n",
    "loader = CSVLoader(\n",
    "    file_path=\"RAG_df2.csv\",\n",
    "    encoding=\"utf-8\"\n",
    ")\n",
    "documents = loader.load()"
   ]
  },
  {
   "cell_type": "code",
   "execution_count": 14,
   "metadata": {},
   "outputs": [
    {
     "name": "stderr",
     "output_type": "stream",
     "text": [
      "Created a chunk of size 1511, which is longer than the specified 1000\n",
      "Created a chunk of size 2257, which is longer than the specified 1000\n",
      "Created a chunk of size 1111, which is longer than the specified 1000\n",
      "Created a chunk of size 1081, which is longer than the specified 1000\n",
      "Retrying langchain.embeddings.openai.embed_with_retry.<locals>._embed_with_retry in 4.0 seconds as it raised Timeout: Request timed out: HTTPSConnectionPool(host='demo-app.openai.azure.com', port=443): Read timed out. (read timeout=600).\n"
     ]
    },
    {
     "ename": "HttpResponseError",
     "evalue": "() Storage quota has been exceeded for this service. You must either delete documents first, or use a higher SKU for additional quota.\nCode: \nMessage: Storage quota has been exceeded for this service. You must either delete documents first, or use a higher SKU for additional quota.",
     "output_type": "error",
     "traceback": [
      "\u001b[1;31m---------------------------------------------------------------------------\u001b[0m",
      "\u001b[1;31mHttpResponseError\u001b[0m                         Traceback (most recent call last)",
      "Cell \u001b[1;32mIn[14], line 5\u001b[0m\n\u001b[0;32m      2\u001b[0m text_splitter \u001b[38;5;241m=\u001b[39m CharacterTextSplitter(chunk_size\u001b[38;5;241m=\u001b[39m\u001b[38;5;241m1000\u001b[39m, chunk_overlap\u001b[38;5;241m=\u001b[39m\u001b[38;5;241m0\u001b[39m)\n\u001b[0;32m      3\u001b[0m docs \u001b[38;5;241m=\u001b[39m text_splitter\u001b[38;5;241m.\u001b[39msplit_documents(documents)\n\u001b[1;32m----> 5\u001b[0m \u001b[43macs\u001b[49m\u001b[38;5;241;43m.\u001b[39;49m\u001b[43madd_documents\u001b[49m\u001b[43m(\u001b[49m\u001b[43mdocuments\u001b[49m\u001b[38;5;241;43m=\u001b[39;49m\u001b[43mdocs\u001b[49m\u001b[43m)\u001b[49m\n",
      "File \u001b[1;32md:\\home\\[00]_Projects\\LLMs\\DataEngineering\\vector-DB\\app\\venv\\lib\\site-packages\\langchain\\schema\\vectorstore.py:122\u001b[0m, in \u001b[0;36mVectorStore.add_documents\u001b[1;34m(self, documents, **kwargs)\u001b[0m\n\u001b[0;32m    120\u001b[0m texts \u001b[38;5;241m=\u001b[39m [doc\u001b[38;5;241m.\u001b[39mpage_content \u001b[38;5;28;01mfor\u001b[39;00m doc \u001b[38;5;129;01min\u001b[39;00m documents]\n\u001b[0;32m    121\u001b[0m metadatas \u001b[38;5;241m=\u001b[39m [doc\u001b[38;5;241m.\u001b[39mmetadata \u001b[38;5;28;01mfor\u001b[39;00m doc \u001b[38;5;129;01min\u001b[39;00m documents]\n\u001b[1;32m--> 122\u001b[0m \u001b[38;5;28;01mreturn\u001b[39;00m \u001b[38;5;28mself\u001b[39m\u001b[38;5;241m.\u001b[39madd_texts(texts, metadatas, \u001b[38;5;241m*\u001b[39m\u001b[38;5;241m*\u001b[39mkwargs)\n",
      "File \u001b[1;32md:\\home\\[00]_Projects\\LLMs\\DataEngineering\\vector-DB\\app\\venv\\lib\\site-packages\\langchain\\vectorstores\\azuresearch.py:302\u001b[0m, in \u001b[0;36mAzureSearch.add_texts\u001b[1;34m(self, texts, metadatas, **kwargs)\u001b[0m\n\u001b[0;32m    300\u001b[0m \u001b[38;5;66;03m# Upload data in batches\u001b[39;00m\n\u001b[0;32m    301\u001b[0m \u001b[38;5;28;01mif\u001b[39;00m \u001b[38;5;28mlen\u001b[39m(data) \u001b[38;5;241m==\u001b[39m MAX_UPLOAD_BATCH_SIZE:\n\u001b[1;32m--> 302\u001b[0m     response \u001b[38;5;241m=\u001b[39m \u001b[38;5;28;43mself\u001b[39;49m\u001b[38;5;241;43m.\u001b[39;49m\u001b[43mclient\u001b[49m\u001b[38;5;241;43m.\u001b[39;49m\u001b[43mupload_documents\u001b[49m\u001b[43m(\u001b[49m\u001b[43mdocuments\u001b[49m\u001b[38;5;241;43m=\u001b[39;49m\u001b[43mdata\u001b[49m\u001b[43m)\u001b[49m\n\u001b[0;32m    303\u001b[0m     \u001b[38;5;66;03m# Check if all documents were successfully uploaded\u001b[39;00m\n\u001b[0;32m    304\u001b[0m     \u001b[38;5;28;01mif\u001b[39;00m \u001b[38;5;129;01mnot\u001b[39;00m \u001b[38;5;28mall\u001b[39m([r\u001b[38;5;241m.\u001b[39msucceeded \u001b[38;5;28;01mfor\u001b[39;00m r \u001b[38;5;129;01min\u001b[39;00m response]):\n",
      "File \u001b[1;32md:\\home\\[00]_Projects\\LLMs\\DataEngineering\\vector-DB\\app\\venv\\lib\\site-packages\\azure\\search\\documents\\_search_client.py:543\u001b[0m, in \u001b[0;36mSearchClient.upload_documents\u001b[1;34m(self, documents, **kwargs)\u001b[0m\n\u001b[0;32m    540\u001b[0m batch\u001b[38;5;241m.\u001b[39madd_upload_actions(documents)\n\u001b[0;32m    542\u001b[0m kwargs[\u001b[38;5;124m\"\u001b[39m\u001b[38;5;124mheaders\u001b[39m\u001b[38;5;124m\"\u001b[39m] \u001b[38;5;241m=\u001b[39m \u001b[38;5;28mself\u001b[39m\u001b[38;5;241m.\u001b[39m_merge_client_headers(kwargs\u001b[38;5;241m.\u001b[39mget(\u001b[38;5;124m\"\u001b[39m\u001b[38;5;124mheaders\u001b[39m\u001b[38;5;124m\"\u001b[39m))\n\u001b[1;32m--> 543\u001b[0m results \u001b[38;5;241m=\u001b[39m \u001b[38;5;28mself\u001b[39m\u001b[38;5;241m.\u001b[39mindex_documents(batch, \u001b[38;5;241m*\u001b[39m\u001b[38;5;241m*\u001b[39mkwargs)\n\u001b[0;32m    544\u001b[0m \u001b[38;5;28;01mreturn\u001b[39;00m cast(List[IndexingResult], results)\n",
      "File \u001b[1;32md:\\home\\[00]_Projects\\LLMs\\DataEngineering\\vector-DB\\app\\venv\\lib\\site-packages\\azure\\core\\tracing\\decorator.py:119\u001b[0m, in \u001b[0;36mdistributed_trace.<locals>.decorator.<locals>.wrapper_use_tracer\u001b[1;34m(*args, **kwargs)\u001b[0m\n\u001b[0;32m    117\u001b[0m \u001b[38;5;66;03m# If tracing is disabled globally and user didn't explicitly enable it, don't trace.\u001b[39;00m\n\u001b[0;32m    118\u001b[0m \u001b[38;5;28;01mif\u001b[39;00m user_enabled \u001b[38;5;129;01mis\u001b[39;00m \u001b[38;5;28;01mFalse\u001b[39;00m \u001b[38;5;129;01mor\u001b[39;00m (\u001b[38;5;129;01mnot\u001b[39;00m tracing_enabled \u001b[38;5;129;01mand\u001b[39;00m user_enabled \u001b[38;5;129;01mis\u001b[39;00m \u001b[38;5;28;01mNone\u001b[39;00m):\n\u001b[1;32m--> 119\u001b[0m     \u001b[38;5;28;01mreturn\u001b[39;00m func(\u001b[38;5;241m*\u001b[39margs, \u001b[38;5;241m*\u001b[39m\u001b[38;5;241m*\u001b[39mkwargs)\n\u001b[0;32m    121\u001b[0m \u001b[38;5;66;03m# Merge span is parameter is set, but only if no explicit parent are passed\u001b[39;00m\n\u001b[0;32m    122\u001b[0m \u001b[38;5;28;01mif\u001b[39;00m merge_span \u001b[38;5;129;01mand\u001b[39;00m \u001b[38;5;129;01mnot\u001b[39;00m passed_in_parent:\n",
      "File \u001b[1;32md:\\home\\[00]_Projects\\LLMs\\DataEngineering\\vector-DB\\app\\venv\\lib\\site-packages\\azure\\search\\documents\\_search_client.py:641\u001b[0m, in \u001b[0;36mSearchClient.index_documents\u001b[1;34m(self, batch, **kwargs)\u001b[0m\n\u001b[0;32m    631\u001b[0m \u001b[38;5;129m@distributed_trace\u001b[39m\n\u001b[0;32m    632\u001b[0m \u001b[38;5;28;01mdef\u001b[39;00m\u001b[38;5;250m \u001b[39m\u001b[38;5;21mindex_documents\u001b[39m(\u001b[38;5;28mself\u001b[39m, batch: IndexDocumentsBatch, \u001b[38;5;241m*\u001b[39m\u001b[38;5;241m*\u001b[39mkwargs: Any) \u001b[38;5;241m-\u001b[39m\u001b[38;5;241m>\u001b[39m List[IndexingResult]:\n\u001b[0;32m    633\u001b[0m \u001b[38;5;250m    \u001b[39m\u001b[38;5;124;03m\"\"\"Specify a document operations to perform as a batch.\u001b[39;00m\n\u001b[0;32m    634\u001b[0m \n\u001b[0;32m    635\u001b[0m \u001b[38;5;124;03m    :param batch: A batch of document operations to perform.\u001b[39;00m\n\u001b[1;32m   (...)\u001b[0m\n\u001b[0;32m    639\u001b[0m \u001b[38;5;124;03m    :raises :class:`~azure.search.documents.RequestEntityTooLargeError`\u001b[39;00m\n\u001b[0;32m    640\u001b[0m \u001b[38;5;124;03m    \"\"\"\u001b[39;00m\n\u001b[1;32m--> 641\u001b[0m     \u001b[38;5;28;01mreturn\u001b[39;00m \u001b[38;5;28mself\u001b[39m\u001b[38;5;241m.\u001b[39m_index_documents_actions(actions\u001b[38;5;241m=\u001b[39mbatch\u001b[38;5;241m.\u001b[39mactions, \u001b[38;5;241m*\u001b[39m\u001b[38;5;241m*\u001b[39mkwargs)\n",
      "File \u001b[1;32md:\\home\\[00]_Projects\\LLMs\\DataEngineering\\vector-DB\\app\\venv\\lib\\site-packages\\azure\\search\\documents\\_search_client.py:649\u001b[0m, in \u001b[0;36mSearchClient._index_documents_actions\u001b[1;34m(self, actions, **kwargs)\u001b[0m\n\u001b[0;32m    647\u001b[0m batch \u001b[38;5;241m=\u001b[39m IndexBatch(actions\u001b[38;5;241m=\u001b[39mactions)\n\u001b[0;32m    648\u001b[0m \u001b[38;5;28;01mtry\u001b[39;00m:\n\u001b[1;32m--> 649\u001b[0m     batch_response \u001b[38;5;241m=\u001b[39m \u001b[38;5;28mself\u001b[39m\u001b[38;5;241m.\u001b[39m_client\u001b[38;5;241m.\u001b[39mdocuments\u001b[38;5;241m.\u001b[39mindex(batch\u001b[38;5;241m=\u001b[39mbatch, error_map\u001b[38;5;241m=\u001b[39merror_map, \u001b[38;5;241m*\u001b[39m\u001b[38;5;241m*\u001b[39mkwargs)\n\u001b[0;32m    650\u001b[0m     \u001b[38;5;28;01mreturn\u001b[39;00m cast(List[IndexingResult], batch_response\u001b[38;5;241m.\u001b[39mresults)\n\u001b[0;32m    651\u001b[0m \u001b[38;5;28;01mexcept\u001b[39;00m RequestEntityTooLargeError:\n",
      "File \u001b[1;32md:\\home\\[00]_Projects\\LLMs\\DataEngineering\\vector-DB\\app\\venv\\lib\\site-packages\\azure\\core\\tracing\\decorator.py:119\u001b[0m, in \u001b[0;36mdistributed_trace.<locals>.decorator.<locals>.wrapper_use_tracer\u001b[1;34m(*args, **kwargs)\u001b[0m\n\u001b[0;32m    117\u001b[0m \u001b[38;5;66;03m# If tracing is disabled globally and user didn't explicitly enable it, don't trace.\u001b[39;00m\n\u001b[0;32m    118\u001b[0m \u001b[38;5;28;01mif\u001b[39;00m user_enabled \u001b[38;5;129;01mis\u001b[39;00m \u001b[38;5;28;01mFalse\u001b[39;00m \u001b[38;5;129;01mor\u001b[39;00m (\u001b[38;5;129;01mnot\u001b[39;00m tracing_enabled \u001b[38;5;129;01mand\u001b[39;00m user_enabled \u001b[38;5;129;01mis\u001b[39;00m \u001b[38;5;28;01mNone\u001b[39;00m):\n\u001b[1;32m--> 119\u001b[0m     \u001b[38;5;28;01mreturn\u001b[39;00m func(\u001b[38;5;241m*\u001b[39margs, \u001b[38;5;241m*\u001b[39m\u001b[38;5;241m*\u001b[39mkwargs)\n\u001b[0;32m    121\u001b[0m \u001b[38;5;66;03m# Merge span is parameter is set, but only if no explicit parent are passed\u001b[39;00m\n\u001b[0;32m    122\u001b[0m \u001b[38;5;28;01mif\u001b[39;00m merge_span \u001b[38;5;129;01mand\u001b[39;00m \u001b[38;5;129;01mnot\u001b[39;00m passed_in_parent:\n",
      "File \u001b[1;32md:\\home\\[00]_Projects\\LLMs\\DataEngineering\\vector-DB\\app\\venv\\lib\\site-packages\\azure\\search\\documents\\_generated\\operations\\_documents_operations.py:1264\u001b[0m, in \u001b[0;36mDocumentsOperations.index\u001b[1;34m(self, batch, request_options, **kwargs)\u001b[0m\n\u001b[0;32m   1262\u001b[0m     map_error(status_code\u001b[38;5;241m=\u001b[39mresponse\u001b[38;5;241m.\u001b[39mstatus_code, response\u001b[38;5;241m=\u001b[39mresponse, error_map\u001b[38;5;241m=\u001b[39merror_map)\n\u001b[0;32m   1263\u001b[0m     error \u001b[38;5;241m=\u001b[39m \u001b[38;5;28mself\u001b[39m\u001b[38;5;241m.\u001b[39m_deserialize\u001b[38;5;241m.\u001b[39mfailsafe_deserialize(_models\u001b[38;5;241m.\u001b[39mSearchError, pipeline_response)\n\u001b[1;32m-> 1264\u001b[0m     \u001b[38;5;28;01mraise\u001b[39;00m HttpResponseError(response\u001b[38;5;241m=\u001b[39mresponse, model\u001b[38;5;241m=\u001b[39merror)\n\u001b[0;32m   1266\u001b[0m \u001b[38;5;28;01mif\u001b[39;00m response\u001b[38;5;241m.\u001b[39mstatus_code \u001b[38;5;241m==\u001b[39m \u001b[38;5;241m200\u001b[39m:\n\u001b[0;32m   1267\u001b[0m     deserialized \u001b[38;5;241m=\u001b[39m \u001b[38;5;28mself\u001b[39m\u001b[38;5;241m.\u001b[39m_deserialize(\u001b[38;5;124m\"\u001b[39m\u001b[38;5;124mIndexDocumentsResult\u001b[39m\u001b[38;5;124m\"\u001b[39m, pipeline_response)\n",
      "\u001b[1;31mHttpResponseError\u001b[0m: () Storage quota has been exceeded for this service. You must either delete documents first, or use a higher SKU for additional quota.\nCode: \nMessage: Storage quota has been exceeded for this service. You must either delete documents first, or use a higher SKU for additional quota."
     ]
    }
   ],
   "source": [
    "from langchain.text_splitter import CharacterTextSplitter\n",
    "text_splitter = CharacterTextSplitter(chunk_size=1000, chunk_overlap=0)\n",
    "docs = text_splitter.split_documents(documents)\n",
    "\n",
    "acs.add_documents(documents=docs)"
   ]
  },
  {
   "cell_type": "code",
   "execution_count": 15,
   "metadata": {},
   "outputs": [
    {
     "name": "stdout",
     "output_type": "stream",
     "text": [
      "Contenido: title: Queen of Sorcery (Belgariad (Paperback))\n",
      "author: David Eddings\n",
      "year: 1982\n",
      "isbn: 0345323890\n",
      "description: For use in schools and libraries only. A farm boy becomes involved in the struggle to recover the powerful Orb of Aldur and prevent the evil God Torak from taking control of the world.\n",
      "pages: 327\n",
      "genres: Fantasy fiction\n",
      "rating: 5.0\n",
      "Relevancia: 0.8536901\n"
     ]
    }
   ],
   "source": [
    "docs = acs.similarity_search_with_relevance_scores(\n",
    "    query=\"What is a good book of fantasy above 3 points of rating\",\n",
    "    k=5,\n",
    ")\n",
    "doc, score = docs[0]\n",
    "print(\"Contenido:\", doc.page_content)\n",
    "print(\"Relevancia:\", score)"
   ]
  },
  {
   "cell_type": "code",
   "execution_count": 16,
   "metadata": {},
   "outputs": [
    {
     "name": "stdout",
     "output_type": "stream",
     "text": [
      "{'choices': [{'content_filter_results': {'hate': {'filtered': False,\n",
      "                                                  'severity': 'safe'},\n",
      "                                         'protected_material_code': {'detected': False,\n",
      "                                                                     'filtered': False},\n",
      "                                         'protected_material_text': {'detected': False,\n",
      "                                                                     'filtered': False},\n",
      "                                         'self_harm': {'filtered': False,\n",
      "                                                       'severity': 'safe'},\n",
      "                                         'sexual': {'filtered': False,\n",
      "                                                    'severity': 'safe'},\n",
      "                                         'violence': {'filtered': False,\n",
      "                                                      'severity': 'safe'}},\n",
      "              'finish_reason': 'stop',\n",
      "              'index': 0,\n",
      "              'logprobs': None,\n",
      "              'message': {'annotations': [],\n",
      "                          'content': 'Oregon is renowned for its exceptional '\n",
      "                                     'Pinot Noir, among other varietals, and '\n",
      "                                     'several of its wines consistently score '\n",
      "                                     'above 92 points from respected critics '\n",
      "                                     'like Wine Spectator, Wine Enthusiast, '\n",
      "                                     'and Robert Parker’s Wine Advocate.\\n'\n",
      "                                     '\\n'\n",
      "                                     'Here are some of the best Oregon wines, '\n",
      "                                     'regularly scoring above 92 points:\\n'\n",
      "                                     '\\n'\n",
      "                                     '**1. Domaine Serene ‘Evenstad Reserve’ '\n",
      "                                     'Pinot Noir**  \\n'\n",
      "                                     '- Regularly scores 93-96 points  \\n'\n",
      "                                     '- Complex, elegant, and well balanced\\n'\n",
      "                                     '\\n'\n",
      "                                     '**2. Evening Land Seven Springs Vineyard '\n",
      "                                     'Pinot Noir**  \\n'\n",
      "                                     '- Scores 93-95 points  \\n'\n",
      "                                     '- Vibrant, earthy, and expressive\\n'\n",
      "                                     '\\n'\n",
      "                                     '**3. Beaux Frères The Beaux Frères '\n",
      "                                     'Vineyard Pinot Noir**  \\n'\n",
      "                                     '- Scores 94-97 points  \\n'\n",
      "                                     '- Layers of red fruit, floral, and '\n",
      "                                     'spice\\n'\n",
      "                                     '\\n'\n",
      "                                     '**4. Cristom Louise Vineyard Pinot '\n",
      "                                     'Noir**  \\n'\n",
      "                                     '- Scores 92-94 points  \\n'\n",
      "                                     '- Structured, fruity, and '\n",
      "                                     'mineral-driven\\n'\n",
      "                                     '\\n'\n",
      "                                     '**5. Bergström Shea Vineyard Pinot '\n",
      "                                     'Noir**  \\n'\n",
      "                                     '- Scores 92-95 points  \\n'\n",
      "                                     '- Dense, lush, with dark fruit and '\n",
      "                                     'savory notes\\n'\n",
      "                                     '\\n'\n",
      "                                     'If you’re seeking other varietals, like '\n",
      "                                     'Chardonnay or Riesling, producers such '\n",
      "                                     'as Eyrie Vineyards, Walter Scott, and '\n",
      "                                     'Big Table Farm also deliver highly rated '\n",
      "                                     'wines over 92 points.\\n'\n",
      "                                     '\\n'\n",
      "                                     'Let me know your taste preferences '\n",
      "                                     '(style, grape, food pairing, or budget), '\n",
      "                                     'and I can suggest a perfect bottle!',\n",
      "                          'refusal': None,\n",
      "                          'role': 'assistant'}}],\n",
      " 'created': 1753486630,\n",
      " 'id': 'chatcmpl-BxMGMncDD1jgRCyC7DdbUBjrEF0Am',\n",
      " 'model': 'gpt-4.1-2025-04-14',\n",
      " 'object': 'chat.completion',\n",
      " 'prompt_filter_results': [{'content_filter_results': {'hate': {'filtered': False,\n",
      "                                                                'severity': 'safe'},\n",
      "                                                       'jailbreak': {'detected': False,\n",
      "                                                                     'filtered': False},\n",
      "                                                       'self_harm': {'filtered': False,\n",
      "                                                                     'severity': 'safe'},\n",
      "                                                       'sexual': {'filtered': False,\n",
      "                                                                  'severity': 'safe'},\n",
      "                                                       'violence': {'filtered': False,\n",
      "                                                                    'severity': 'safe'}},\n",
      "                            'prompt_index': 0}],\n",
      " 'system_fingerprint': 'fp_07e970ab25',\n",
      " 'usage': {'completion_tokens': 286,\n",
      "           'completion_tokens_details': {'accepted_prediction_tokens': 0,\n",
      "                                         'audio_tokens': 0,\n",
      "                                         'reasoning_tokens': 0,\n",
      "                                         'rejected_prediction_tokens': 0},\n",
      "           'prompt_tokens': 134,\n",
      "           'prompt_tokens_details': {'audio_tokens': 0,\n",
      "                                     'cached_tokens': 0},\n",
      "           'total_tokens': 420}}\n",
      "Oregon is renowned for its exceptional Pinot Noir, among other varietals, and several of its wines consistently score above 92 points from respected critics like Wine Spectator, Wine Enthusiast, and Robert Parker’s Wine Advocate.\n",
      "\n",
      "Here are some of the best Oregon wines, regularly scoring above 92 points:\n",
      "\n",
      "**1. Domaine Serene ‘Evenstad Reserve’ Pinot Noir**  \n",
      "- Regularly scores 93-96 points  \n",
      "- Complex, elegant, and well balanced\n",
      "\n",
      "**2. Evening Land Seven Springs Vineyard Pinot Noir**  \n",
      "- Scores 93-95 points  \n",
      "- Vibrant, earthy, and expressive\n",
      "\n",
      "**3. Beaux Frères The Beaux Frères Vineyard Pinot Noir**  \n",
      "- Scores 94-97 points  \n",
      "- Layers of red fruit, floral, and spice\n",
      "\n",
      "**4. Cristom Louise Vineyard Pinot Noir**  \n",
      "- Scores 92-94 points  \n",
      "- Structured, fruity, and mineral-driven\n",
      "\n",
      "**5. Bergström Shea Vineyard Pinot Noir**  \n",
      "- Scores 92-95 points  \n",
      "- Dense, lush, with dark fruit and savory notes\n",
      "\n",
      "If you’re seeking other varietals, like Chardonnay or Riesling, producers such as Eyrie Vineyards, Walter Scott, and Big Table Farm also deliver highly rated wines over 92 points.\n",
      "\n",
      "Let me know your taste preferences (style, grape, food pairing, or budget), and I can suggest a perfect bottle!\n"
     ]
    }
   ],
   "source": [
    "openai.api_base = openai_completion_model_endpoint # Your Azure OpenAI resource's endpoint value.\n",
    "openai.api_key = openai_completion_model_key\n",
    "openai.api_type = \"azure\"\n",
    "openai.api_version = openai_completion_model_version\n",
    "\n",
    "messages=[\n",
    "    {\"role\": \"system\", \"content\": \"Asisstant is a chatbot that helps you find the best wine for your taste.\"},\n",
    "    {\"role\": \"user\", \"content\": \"What is the best wine in Oregon above 92 points?\"},\n",
    "    {\"role\": \"assistant\", \"content\": docs[0][0].page_content}\n",
    "]\n",
    "\n",
    "response = openai.ChatCompletion.create(\n",
    "    deployment_id=openai_completion_model_name,\n",
    "    messages=messages,\n",
    ")\n",
    "from pprint import pprint\n",
    "pprint(response)\n",
    "print(response['choices'][0]['message']['content'])"
   ]
  }
 ],
 "metadata": {
  "kernelspec": {
   "display_name": "venv",
   "language": "python",
   "name": "python3"
  },
  "language_info": {
   "codemirror_mode": {
    "name": "ipython",
    "version": 3
   },
   "file_extension": ".py",
   "mimetype": "text/x-python",
   "name": "python",
   "nbconvert_exporter": "python",
   "pygments_lexer": "ipython3",
   "version": "3.9.2"
  }
 },
 "nbformat": 4,
 "nbformat_minor": 2
}
